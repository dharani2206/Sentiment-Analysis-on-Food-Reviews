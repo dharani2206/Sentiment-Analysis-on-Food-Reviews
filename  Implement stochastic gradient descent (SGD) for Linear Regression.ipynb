{
 "cells": [
  {
   "cell_type": "code",
   "execution_count": 89,
   "metadata": {
    "colab": {},
    "colab_type": "code",
    "id": "REYPoTJ1Af7u"
   },
   "outputs": [],
   "source": [
    "import warnings\n",
    "warnings.filterwarnings(\"ignore\")\n",
    "from sklearn.datasets import load_boston\n",
    "from random import seed\n",
    "from random import randrange\n",
    "from csv import reader\n",
    "from math import sqrt\n",
    "from sklearn import preprocessing\n",
    "import pandas as pd\n",
    "import numpy as np\n",
    "import matplotlib.pyplot as plt\n",
    "from prettytable import PrettyTable\n",
    "from sklearn.linear_model import SGDRegressor\n",
    "from sklearn import preprocessing\n",
    "from sklearn.metrics import mean_squared_error"
   ]
  },
  {
   "cell_type": "code",
   "execution_count": 90,
   "metadata": {
    "colab": {},
    "colab_type": "code",
    "id": "NTQ2iH-kAwbo"
   },
   "outputs": [],
   "source": [
    "boston=load_boston()\n",
    "X = boston.data\n",
    "Y = boston.target\n"
   ]
  },
  {
   "cell_type": "code",
   "execution_count": 91,
   "metadata": {},
   "outputs": [],
   "source": [
    "X=pd.DataFrame(X)\n",
    "Y=pd.DataFrame(Y)\n",
    "\n"
   ]
  },
  {
   "cell_type": "code",
   "execution_count": 92,
   "metadata": {
    "colab": {},
    "colab_type": "code",
    "id": "FgUW39s6Be0U"
   },
   "outputs": [],
   "source": [
    "scaler = preprocessing.StandardScaler().fit(X)\n",
    "X = scaler.transform(X)"
   ]
  },
  {
   "cell_type": "code",
   "execution_count": 93,
   "metadata": {
    "colab": {
     "base_uri": "https://localhost:8080/",
     "height": 34
    },
    "colab_type": "code",
    "executionInfo": {
     "elapsed": 879,
     "status": "ok",
     "timestamp": 1545718892607,
     "user": {
      "displayName": "Applied AI Course",
      "photoUrl": "https://lh5.googleusercontent.com/-9_3A9F-kDXs/AAAAAAAAAAI/AAAAAAAAACw/IprjYvUuoXQ/s64/photo.jpg",
      "userId": "00484516897554883881"
     },
     "user_tz": -330
    },
    "id": "HNu1sXtEBBS2",
    "outputId": "a0c5d3d0-345c-4a34-8ccf-0d9f3d7d23fd"
   },
   "outputs": [
    {
     "name": "stdout",
     "output_type": "stream",
     "text": [
      "22.682054919135837\n"
     ]
    }
   ],
   "source": [
    "clf = SGDRegressor()\n",
    "clf.fit(X, Y)\n",
    "print(mean_squared_error(Y, clf.predict(X)))"
   ]
  },
  {
   "cell_type": "code",
   "execution_count": 94,
   "metadata": {},
   "outputs": [
    {
     "data": {
      "text/plain": [
       "<matplotlib.collections.PathCollection at 0x2385fcecda0>"
      ]
     },
     "execution_count": 94,
     "metadata": {},
     "output_type": "execute_result"
    },
    {
     "data": {
      "image/png": "[encoded data removed]",
      "text/plain": [
       "<Figure size 432x288 with 1 Axes>"
      ]
     },
     "metadata": {},
     "output_type": "display_data"
    }
   ],
   "source": [
    "%matplotlib inline\n",
    "plt.scatter(Y,clf.predict(X))\n"
   ]
  },
  {
   "cell_type": "markdown",
   "metadata": {},
   "source": [
    "## Implementing sgd for linearRegression "
   ]
  },
  {
   "cell_type": "code",
   "execution_count": 96,
   "metadata": {},
   "outputs": [],
   "source": [
    "#https://stackoverflow.com/questions/48843721/python-gd-and-sgd-implementation-on-linear-regression citation link and used for reference\n",
    "import random\n",
    "def implem_sgd(X,Y, lr_rate,  n_iter):\n",
    "    w_updated=np.ones(shape=(1,13))*-100\n",
    "    b_updated=-100\n",
    "    t=range(n_iter)\n",
    "    r=lr_rate\n",
    "    #converting to DataFrames\n",
    "    X=pd.DataFrame(X)\n",
    "    Y=pd.DataFrame(Y)\n",
    "    for i in t:\n",
    "        import random\n",
    "        ran=random.sample(range(506),10)\n",
    "        w_before=w_updated\n",
    "        b_before=b_updated\n",
    "        w_iter=np.zeros(shape=(1,13))\n",
    "        b_iter=0\n",
    "        #taking 10 random samples at each iteration\n",
    "        x_data=X.iloc[ran,:]\n",
    "        y_data=Y.iloc[ran,:]\n",
    "        x=np.array(x_data)\n",
    "        y=np.array(y_data)\n",
    "        # for getting the derivatives using sgd with k=10\n",
    "        for i in range(10):  \n",
    "            y_curr=np.dot(w_before,x[i])+b_before\n",
    "            w_iter+=x[i] * (y[i] - y_curr)\n",
    "            b_iter+=(y[i]-y_curr)  \n",
    "        # multiplying the costant -2/N in summation \n",
    "        w_iter*=(-2/x.shape[0])\n",
    "        b_iter*=(-2/x.shape[0])\n",
    "        #updating the parameters\n",
    "        w_updated=(w_before-r*w_iter)\n",
    "        b_updated=(b_before-r*b_iter)\n",
    "    return w_updated, b_updated"
   ]
  },
  {
   "cell_type": "code",
   "execution_count": 97,
   "metadata": {},
   "outputs": [],
   "source": [
    "w, b=implem_sgd(X,Y, lr_rate=0.1,  n_iter=1000)"
   ]
  },
  {
   "cell_type": "code",
   "execution_count": 98,
   "metadata": {},
   "outputs": [],
   "source": [
    "def pred(x,w, b):\n",
    "    y_pred=[]\n",
    "    for i in range(len(x)):\n",
    "        y=np.asscalar(np.dot(w,x[i:i+1].T)+b)\n",
    "        y_pred.append(y)\n",
    "    return np.array(y_pred)\n"
   ]
  },
  {
   "cell_type": "code",
   "execution_count": 99,
   "metadata": {},
   "outputs": [],
   "source": [
    "y_pred=pred(X, w=w, b=b)"
   ]
  },
  {
   "cell_type": "markdown",
   "metadata": {},
   "source": [
    "### plot btw actualy and predicted y through implemented sgd"
   ]
  },
  {
   "cell_type": "code",
   "execution_count": 101,
   "metadata": {},
   "outputs": [
    {
     "name": "stdout",
     "output_type": "stream",
     "text": [
      "****************************************\n",
      "error  :  26.78721988491362\n"
     ]
    },
    {
     "data": {
      "image/png": "[encoded data removed]",
      "text/plain": [
       "<Figure size 432x288 with 1 Axes>"
      ]
     },
     "metadata": {},
     "output_type": "display_data"
    }
   ],
   "source": [
    "plt.scatter(Y,y_pred)\n",
    "print('*'*40)\n",
    "print(\"error  : \",mean_squared_error(Y,y_pred))"
   ]
  },
  {
   "cell_type": "code",
   "execution_count": 102,
   "metadata": {},
   "outputs": [
    {
     "name": "stdout",
     "output_type": "stream",
     "text": [
      "****************************************\n",
      "error  :  22.682054919135837\n"
     ]
    },
    {
     "data": {
      "image/png": "[encoded data removed]",
      "text/plain": [
       "<Figure size 432x288 with 1 Axes>"
      ]
     },
     "metadata": {},
     "output_type": "display_data"
    }
   ],
   "source": [
    "plt.scatter(Y,clf.predict(X))\n",
    "print('*'*40)\n",
    "print(\"error  : \",mean_squared_error(Y,clf.predict(X)))"
   ]
  },
  {
   "cell_type": "markdown",
   "metadata": {},
   "source": [
    "## printing the weight vectors of sklearn sgd and manually implemented sgd weights"
   ]
  },
  {
   "cell_type": "code",
   "execution_count": 103,
   "metadata": {},
   "outputs": [
    {
     "name": "stdout",
     "output_type": "stream",
     "text": [
      "sklearn_sgd_weights---\n",
      " [-0.68649938  0.56688948 -0.26751374  0.79235232 -1.1254483   3.03396308\n",
      " -0.04417273 -2.12359496  0.97442429 -0.55299856 -1.85541709  0.86030389\n",
      " -3.51132304]\n",
      "--------------------------------------------------------------------------------\n",
      "manual_sgd_weights---\n",
      " [[-1.42028182  1.21913297  0.2102615  -0.11618795 -2.0692767   3.63280457\n",
      "  -0.17357159 -3.58623358  2.26230523 -2.49545941 -3.11946095  0.99535596\n",
      "  -3.20796578]]\n"
     ]
    }
   ],
   "source": [
    "print('sklearn_sgd_weights---\\n',clf.coef_)\n",
    "print('-'*80)\n",
    "print('manual_sgd_weights---\\n',w)"
   ]
  },
  {
   "cell_type": "markdown",
   "metadata": {},
   "source": [
    "## checking how much the weight vector weights has been changed"
   ]
  },
  {
   "cell_type": "code",
   "execution_count": 104,
   "metadata": {},
   "outputs": [
    {
     "name": "stdout",
     "output_type": "stream",
     "text": [
      "how many no.of points which are more than 50% change= 7\n"
     ]
    }
   ],
   "source": [
    "percent=abs((clf.coef_-w)/w)*100\n",
    "count=0\n",
    "for i in range(13):\n",
    "    if (percent[0][i]>50):\n",
    "        count+=1\n",
    "print('how many no.of points which are more than 50% change=',count)"
   ]
  },
  {
   "cell_type": "markdown",
   "metadata": {},
   "source": [
    "## printing the intercept b of both sklearn sgd and implemented sgd intercept"
   ]
  },
  {
   "cell_type": "code",
   "execution_count": 106,
   "metadata": {},
   "outputs": [
    {
     "name": "stdout",
     "output_type": "stream",
     "text": [
      "sklearn sgd intercept= [22.3493427]\n",
      "--------------------------------------------------------------------------------\n",
      "manual sgd intercept= [23.15094725]\n",
      "--------------------------------------------------------------------------------\n",
      "error in the intercept  [0.80160456]\n"
     ]
    }
   ],
   "source": [
    "print('sklearn sgd intercept=',clf.intercept_)\n",
    "print('-'*80)\n",
    "print('manual sgd intercept=',b)\n",
    "print('-'*80)\n",
    "print('error in the intercept ',abs(clf.intercept_-b))"
   ]
  },
  {
   "cell_type": "code",
   "execution_count": null,
   "metadata": {},
   "outputs": [],
   "source": []
  }
 ],
 "metadata": {
  "colab": {
   "name": "Untitled3.ipynb",
   "provenance": [],
   "version": "0.3.2"
  },
  "kernelspec": {
   "display_name": "Python 3",
   "language": "python",
   "name": "python3"
  },
  "language_info": {
   "codemirror_mode": {
    "name": "ipython",
    "version": 3
   },
   "file_extension": ".py",
   "mimetype": "text/x-python",
   "name": "python",
   "nbconvert_exporter": "python",
   "pygments_lexer": "ipython3",
   "version": "3.6.6"
  }
 },
 "nbformat": 4,
 "nbformat_minor": 1
}
